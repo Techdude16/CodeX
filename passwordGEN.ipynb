{
  "nbformat": 4,
  "nbformat_minor": 0,
  "metadata": {
    "colab": {
      "provenance": [],
      "authorship_tag": "ABX9TyPKXQxIfl/2X4IXJlp3Lrif",
      "include_colab_link": true
    },
    "kernelspec": {
      "name": "python3",
      "display_name": "Python 3"
    },
    "language_info": {
      "name": "python"
    }
  },
  "cells": [
    {
      "cell_type": "markdown",
      "metadata": {
        "id": "view-in-github",
        "colab_type": "text"
      },
      "source": [
        "<a href=\"https://colab.research.google.com/github/Techdude16/CodeX/blob/main/passwordGEN.ipynb\" target=\"_parent\"><img src=\"https://colab.research.google.com/assets/colab-badge.svg\" alt=\"Open In Colab\"/></a>"
      ]
    },
    {
      "cell_type": "code",
      "execution_count": null,
      "metadata": {
        "id": "kmRCTYYlNLgU"
      },
      "outputs": [],
      "source": []
    },
    {
      "cell_type": "code",
      "source": [
        "import random\n",
        "import string\n",
        "total = string.ascii_letters + string.digits + string.punctuation\n",
        "length = 16\n",
        "password = \"\".join(random.sample(total, length))\n",
        "print(password)\n",
        "\n"
      ],
      "metadata": {
        "colab": {
          "base_uri": "https://localhost:8080/"
        },
        "id": "7YwRGCY3NNeb",
        "outputId": "dfc4362a-af80-4b57-cab2-732430fd270f"
      },
      "execution_count": 1,
      "outputs": [
        {
          "output_type": "stream",
          "name": "stdout",
          "text": [
            "fctkH:G!mn{a_&\\@\n"
          ]
        }
      ]
    },
    {
      "cell_type": "markdown",
      "source": [
        "Random password generator"
      ],
      "metadata": {
        "id": "Z0Qk-z2aeMqZ"
      }
    },
    {
      "cell_type": "markdown",
      "source": [
        "Interesting. "
      ],
      "metadata": {
        "id": "vrtcZO6eNt4r"
      }
    }
  ]
}